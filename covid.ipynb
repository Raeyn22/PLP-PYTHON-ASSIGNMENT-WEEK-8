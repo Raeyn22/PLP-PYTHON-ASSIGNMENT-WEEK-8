# COVID-19 Global Data Tracker (Jupyter Notebook Version)
# Import libraries
import pandas as pd
import matplotlib.pyplot as plt
import seaborn as sns
import plotly.express as px

# 1. Data Loading
url = "https://covid.ourworldindata.org/data/owid-covid-data.csv"
df = pd.read_csv(url)

# 2. Data Cleaning
# Select key columns and countries
cols = ['date', 'location', 'total_cases', 'new_cases', 'total_deaths', 'new_deaths', 
        'people_vaccinated', 'population']
countries = ['United States', 'India', 'Brazil', 'Germany', 'Kenya', 'South Africa']
df = df[df['location'].isin(countries)][cols]

# Convert date and handle missing values
df['date'] = pd.to_datetime(df['date'])
df = df.sort_values(['location', 'date'])
df['total_cases'] = df.groupby('location')['total_cases'].ffill()  # Forward-fill missing cases
df['people_vaccinated_percent'] = (df['people_vaccinated'] / df['population']) * 100

# 3. Exploratory Data Analysis (EDA)
print("\n=== Summary Statistics ===")
print(f"Timeframe: {df['date'].min().date()} to {df['date'].max().date()}")
print("\nTotal Cases by Country:")
print(df.groupby('location')['total_cases'].max().sort_values(ascending=False))

# 4. Visualizations
plt.style.use('ggplot')

# Plot 1: Total Cases Over Time
plt.figure(figsize=(12, 6))
for country in countries:
    subset = df[df['location'] == country]
    plt.plot(subset['date'], subset['total_cases']/1e6, label=country, linewidth=2)
plt.title("COVID-19 Total Cases by Country (Millions)", fontsize=14)
plt.xlabel("Date", fontsize=12)
plt.ylabel("Cases (Millions)", fontsize=12)
plt.legend()
plt.grid(True)
plt.tight_layout()
plt.savefig('cases_over_time.png', dpi=300)  # Save plot
plt.show()

# Plot 2: Death Rate Analysis
df['death_rate'] = (df['total_deaths'] / df['total_cases']) * 100
plt.figure(figsize=(10, 6))
sns.boxplot(data=df, x='location', y='death_rate', palette='Set2')
plt.title("Case Fatality Rate Distribution by Country", fontsize=14)
plt.xlabel("Country", fontsize=12)
plt.ylabel("Death Rate (%)", fontsize=12)
plt.xticks(rotation=45)
plt.tight_layout()
plt.savefig('death_rates.png', dpi=300)
plt.show()

# Plot 3: Vaccination Progress
latest_data = df[df['date'] == df['date'].max()]
plt.figure(figsize=(10, 6))
sns.barplot(data=latest_data, x='location', y='people_vaccinated_percent', palette='viridis')
plt.title("Percentage of Population Vaccinated (Latest Data)", fontsize=14)
plt.xlabel("Country", fontsize=12)
plt.ylabel("% Vaccinated", fontsize=12)
plt.xticks(rotation=45)
plt.tight_layout()
plt.savefig('vaccination.png', dpi=300)
plt.show()

# 5. Interactive World Map (Plotly)
fig = px.choropleth(
    latest_data,
    locations="location",
    locationmode="country names",
    color="total_cases",
    hover_name="location",
    hover_data=["people_vaccinated_percent", "total_deaths"],
    color_continuous_scale=px.colors.sequential.Plasma,
    title="Global COVID-19 Cases (Latest Data)"
)
fig.update_layout(margin={"r":0,"t":40,"l":0,"b":0})
fig.show()
fig.write_html("world_map.html")  # Save interactive map

# 6. Save Cleaned Data
df.to_csv('cleaned_covid_data.csv', index=False)
print("\n=== Analysis Complete ===")
print("Outputs saved: plots (PNG), interactive map (HTML), cleaned data (CSV)")
